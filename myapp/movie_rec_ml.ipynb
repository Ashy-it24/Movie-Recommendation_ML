{
 "cells": [
  {
   "cell_type": "code",
   "execution_count": 1,
   "id": "00dc59ee-ecab-46ef-9cb0-1838c4c17a4f",
   "metadata": {},
   "outputs": [
    {
     "data": {
      "text/plain": [
       "(1234214, 7)"
      ]
     },
     "execution_count": 1,
     "metadata": {},
     "output_type": "execute_result"
    }
   ],
   "source": [
    "import pandas as pd\n",
    "import numpy as np\n",
    "from sklearn.neighbors import NearestNeighbors\n",
    "from sklearn.feature_extraction.text import TfidfVectorizer\n",
    "import difflib\n",
    "\n",
    "data=pd.read_csv('bigmovies.csv',usecols=['id', 'title','backdrop_path','tagline','overview', 'genres','keywords'])\n",
    "data.shape"
   ]
  },
  {
   "cell_type": "code",
   "execution_count": 2,
   "id": "8ee7277d-5efc-40e5-a436-5347fc1efcde",
   "metadata": {},
   "outputs": [
    {
     "data": {
      "text/plain": [
       "(54875, 7)"
      ]
     },
     "execution_count": 2,
     "metadata": {},
     "output_type": "execute_result"
    }
   ],
   "source": [
    "data.dropna(inplace=True)\n",
    "data.shape"
   ]
  },
  {
   "cell_type": "code",
   "execution_count": 3,
   "id": "46994b73-eaab-4314-aa8a-3b93b10fc414",
   "metadata": {},
   "outputs": [
    {
     "data": {
      "text/plain": [
       "id               0\n",
       "title            0\n",
       "backdrop_path    0\n",
       "overview         0\n",
       "tagline          0\n",
       "genres           0\n",
       "keywords         0\n",
       "dtype: int64"
      ]
     },
     "execution_count": 3,
     "metadata": {},
     "output_type": "execute_result"
    }
   ],
   "source": [
    "data.isnull().sum()"
   ]
  },
  {
   "cell_type": "code",
   "execution_count": 4,
   "id": "6f527165-75fd-4399-b061-3a644eba0bbb",
   "metadata": {},
   "outputs": [
    {
     "data": {
      "text/plain": [
       "(54875, 7)"
      ]
     },
     "execution_count": 4,
     "metadata": {},
     "output_type": "execute_result"
    }
   ],
   "source": [
    "selected_data=['title','genres','overview','tagline','keywords']\n",
    "for i in selected_data:\n",
    "  data[i]=data[i].fillna(' ')\n",
    "data.shape"
   ]
  },
  {
   "cell_type": "code",
   "execution_count": 5,
   "id": "35ba4711-3f08-49c2-bd52-fa142aa4b157",
   "metadata": {},
   "outputs": [],
   "source": [
    "combined_data=data['title']+' '+data['genres']+' '+data['overview']+' '+data['tagline']+' '+data['keywords']"
   ]
  },
  {
   "cell_type": "code",
   "execution_count": 6,
   "id": "f40ff5b8-c232-4227-a49b-d7bdb0aa0fdb",
   "metadata": {},
   "outputs": [
    {
     "name": "stdout",
     "output_type": "stream",
     "text": [
      "NearestNeighbors(algorithm='brute', metric='cosine')\n"
     ]
    }
   ],
   "source": [
    "vector = TfidfVectorizer(stop_words='english')\n",
    "feature_set = vector.fit_transform(combined_data)\n",
    "\n",
    "# Use Nearest Neighbors instead of full cosine similarity matrix\n",
    "nn_model = NearestNeighbors(metric='cosine', algorithm='brute')\n",
    "nn_model.fit(feature_set)\n",
    "print(nn_model)\n",
    "\n"
   ]
  },
  {
   "cell_type": "code",
   "execution_count": 8,
   "id": "db629182-d8ca-43d7-864b-c08c59f793d8",
   "metadata": {},
   "outputs": [],
   "source": [
    "def recommend(movie_name):\n",
    "    # find close match\n",
    "    list_of_all_titles = data['title'].tolist()\n",
    "    find_close_match = difflib.get_close_matches(movie_name, list_of_all_titles)\n",
    "\n",
    "    if not find_close_match:\n",
    "        print(\"No close match found. Please try again.\")\n",
    "        return []\n",
    "\n",
    "    close_match = find_close_match[0]\n",
    "    print(f\"\\nShowing results for: {close_match}\")\n",
    "    # Prepare data as nested list\n",
    "\n",
    "    # index of the movie\n",
    "    index = data[data.title == close_match].index[0]\n",
    "    distances, indices = nn_model.kneighbors(feature_set[index], n_neighbors=6)\n",
    "\n",
    "    result = []\n",
    "    for i in indices.flatten()[1:]:  # exclude the movie itself\n",
    "        item = []\n",
    "        temp = data.iloc[i]\n",
    "        item.append(temp['title'])\n",
    "        item.append(temp['genres'])\n",
    "        item.append(temp['overview'])\n",
    "        item.append(temp['backdrop_path'])\n",
    "        result.append(item)\n",
    "\n",
    "    return result\n",
    "\n"
   ]
  },
  {
   "cell_type": "code",
   "execution_count": 17,
   "id": "7c2fee6b-a716-48f2-8e16-4ae2c50aa8c0",
   "metadata": {},
   "outputs": [],
   "source": [
    "def search(movie_name):\n",
    "    newvector = TfidfVectorizer(stop_words='english')\n",
    "    fneweature_set = vector.fit_transform(data['title'])\n",
    "    \n",
    "    # Use Nearest Neighbors instead of full cosine similarity matrix\n",
    "    new_nn_model = NearestNeighbors(metric='cosine', algorithm='brute')\n",
    "    new_nn_model.fit(feature_set)\n",
    "    \n",
    "    list_of_all_titles = data['title'].tolist()\n",
    "    find_close_match = difflib.get_close_matches(movie_name, list_of_all_titles)\n",
    "    if not find_close_match:\n",
    "        print(\"No close match found. Please try again.\")\n",
    "        return []\n",
    "\n",
    "    close_match = find_close_match[0]\n",
    "    print(f\"\\nShowing results for: {close_match}\")\n",
    "    # Prepare data as nested list\n",
    "\n",
    "    # index of the movie\n",
    "    index = data[data.title == close_match].index[0]\n",
    "    distances, indices = nn_model.kneighbors(feature_set[index], n_neighbors=6)\n",
    "\n",
    "    result = []\n",
    "    for i in indices.flatten()[1:]:  # exclude the movie itself\n",
    "        item = []\n",
    "        temp = data.iloc[i]\n",
    "        item.append(temp['title'])\n",
    "        item.append(temp['genres'])\n",
    "        item.append(temp['overview'])\n",
    "        item.append(temp['backdrop_path'])\n",
    "        result.append(item)\n",
    "\n",
    "    return result"
   ]
  },
  {
   "cell_type": "code",
   "execution_count": 18,
   "id": "209c87bc-77be-405c-9d76-a98e8224628a",
   "metadata": {},
   "outputs": [
    {
     "name": "stdout",
     "output_type": "stream",
     "text": [
      "\n",
      "Showing results for: Iron Man\n",
      "[['Iron Man 3', 'Action, Adventure, Science Fiction', \"When Tony Stark's world is torn apart by a formidable terrorist called the Mandarin, he starts an odyssey of rebuilding and retribution.\", '/aFTYFqrWp4RS46Twm87l5e0ItYb.jpg'], ['Iron Man 2', 'Adventure, Action, Science Fiction', \"With the world now aware of his dual life as the armored superhero Iron Man, billionaire inventor Tony Stark faces pressure from the government, the press and the public to share his technology with the military. Unwilling to let go of his invention, Stark, with Pepper Potts and James 'Rhodey' Rhodes at his side, must forge new alliances – and confront powerful enemies.\", '/jesRqfL9v6HNnowe795xjmuKUXl.jpg'], ['Inhumans: The First Chapter', 'Science Fiction, Action, Adventure', 'An isolated community of superhumans fight to protect themselves.', '/zJ4xmyVLYU9Lu3yfYiJNFiLL51D.jpg'], ['Captain Marvel', 'Action, Adventure, Science Fiction', 'The story follows Carol Danvers as she becomes one of the universe’s most powerful heroes when Earth is caught in the middle of a galactic war between two alien races. Set in the 1990s, Captain Marvel is an all-new adventure from a previously unseen period in the history of the Marvel Cinematic Universe.', '/w2PMyoyLU22YvrGK3smVM9fW1jj.jpg'], ['The Invincible Iron Man', 'Action, Adventure, Animation, Fantasy, Science Fiction', \"When a cocky industrialist's efforts to raise an ancient Chinese temple leads him to be seriously wounded and captured by enemy forces, he must use his ideas for a revolutionary power armor in order to fight back as a superhero.\", '/rhyJbGkOsJB9W1cOkjbzTShwOUP.jpg']]\n"
     ]
    }
   ],
   "source": [
    "print(search(\"Iron man\"))"
   ]
  },
  {
   "cell_type": "code",
   "execution_count": 12,
   "id": "508f8488-423a-4ff0-8a57-0625acacaf05",
   "metadata": {},
   "outputs": [],
   "source": [
    "import pickle\n",
    "pickle.dump(data, open(\"bigmovies.pkl\", \"wb\"))\n",
    "pickle.dump(feature_set, open(\"features.pkl\", \"wb\"))\n",
    "pickle.dump(vector, open(\"vectorizer.pkl\", \"wb\"))\n",
    "pickle.dump(nn_model, open(\"model.pkl\", \"wb\"))"
   ]
  },
  {
   "cell_type": "code",
   "execution_count": 40,
   "id": "2f1c7334-1489-4ef6-b89b-6c90a0d7413d",
   "metadata": {},
   "outputs": [
    {
     "data": {
      "text/html": [
       "<div>\n",
       "<style scoped>\n",
       "    .dataframe tbody tr th:only-of-type {\n",
       "        vertical-align: middle;\n",
       "    }\n",
       "\n",
       "    .dataframe tbody tr th {\n",
       "        vertical-align: top;\n",
       "    }\n",
       "\n",
       "    .dataframe thead th {\n",
       "        text-align: right;\n",
       "    }\n",
       "</style>\n",
       "<table border=\"1\" class=\"dataframe\">\n",
       "  <thead>\n",
       "    <tr style=\"text-align: right;\">\n",
       "      <th></th>\n",
       "      <th>id</th>\n",
       "      <th>title</th>\n",
       "      <th>backdrop_path</th>\n",
       "      <th>overview</th>\n",
       "      <th>tagline</th>\n",
       "      <th>genres</th>\n",
       "      <th>keywords</th>\n",
       "    </tr>\n",
       "  </thead>\n",
       "  <tbody>\n",
       "    <tr>\n",
       "      <th>0</th>\n",
       "      <td>27205</td>\n",
       "      <td>Inception</td>\n",
       "      <td>/8ZTVqvKDQ8emSGUEMjsS4yHAwrp.jpg</td>\n",
       "      <td>Cobb, a skilled thief who commits corporate es...</td>\n",
       "      <td>Your mind is the scene of the crime.</td>\n",
       "      <td>Action, Science Fiction, Adventure</td>\n",
       "      <td>rescue, mission, dream, airplane, paris, franc...</td>\n",
       "    </tr>\n",
       "    <tr>\n",
       "      <th>1</th>\n",
       "      <td>157336</td>\n",
       "      <td>Interstellar</td>\n",
       "      <td>/pbrkL804c8yAv3zBZR4QPEafpAR.jpg</td>\n",
       "      <td>The adventures of a group of explorers who mak...</td>\n",
       "      <td>Mankind was born on Earth. It was never meant ...</td>\n",
       "      <td>Adventure, Drama, Science Fiction</td>\n",
       "      <td>rescue, future, spacecraft, race against time,...</td>\n",
       "    </tr>\n",
       "    <tr>\n",
       "      <th>2</th>\n",
       "      <td>155</td>\n",
       "      <td>The Dark Knight</td>\n",
       "      <td>/nMKdUUepR0i5zn0y1T4CsSB5chy.jpg</td>\n",
       "      <td>Batman raises the stakes in his war on crime. ...</td>\n",
       "      <td>Welcome to a world without rules.</td>\n",
       "      <td>Drama, Action, Crime, Thriller</td>\n",
       "      <td>joker, sadism, chaos, secret identity, crime f...</td>\n",
       "    </tr>\n",
       "    <tr>\n",
       "      <th>3</th>\n",
       "      <td>19995</td>\n",
       "      <td>Avatar</td>\n",
       "      <td>/vL5LR6WdxWPjLPFRLe133jXWsh5.jpg</td>\n",
       "      <td>In the 22nd century, a paraplegic Marine is di...</td>\n",
       "      <td>Enter the world of Pandora.</td>\n",
       "      <td>Action, Adventure, Fantasy, Science Fiction</td>\n",
       "      <td>future, society, culture clash, space travel, ...</td>\n",
       "    </tr>\n",
       "    <tr>\n",
       "      <th>4</th>\n",
       "      <td>24428</td>\n",
       "      <td>The Avengers</td>\n",
       "      <td>/9BBTo63ANSmhC4e6r62OJFuK2GL.jpg</td>\n",
       "      <td>When an unexpected enemy emerges and threatens...</td>\n",
       "      <td>Some assembly required.</td>\n",
       "      <td>Science Fiction, Action, Adventure</td>\n",
       "      <td>new york city, superhero, shield, based on com...</td>\n",
       "    </tr>\n",
       "  </tbody>\n",
       "</table>\n",
       "</div>"
      ],
      "text/plain": [
       "       id            title                     backdrop_path  \\\n",
       "0   27205        Inception  /8ZTVqvKDQ8emSGUEMjsS4yHAwrp.jpg   \n",
       "1  157336     Interstellar  /pbrkL804c8yAv3zBZR4QPEafpAR.jpg   \n",
       "2     155  The Dark Knight  /nMKdUUepR0i5zn0y1T4CsSB5chy.jpg   \n",
       "3   19995           Avatar  /vL5LR6WdxWPjLPFRLe133jXWsh5.jpg   \n",
       "4   24428     The Avengers  /9BBTo63ANSmhC4e6r62OJFuK2GL.jpg   \n",
       "\n",
       "                                            overview  \\\n",
       "0  Cobb, a skilled thief who commits corporate es...   \n",
       "1  The adventures of a group of explorers who mak...   \n",
       "2  Batman raises the stakes in his war on crime. ...   \n",
       "3  In the 22nd century, a paraplegic Marine is di...   \n",
       "4  When an unexpected enemy emerges and threatens...   \n",
       "\n",
       "                                             tagline  \\\n",
       "0               Your mind is the scene of the crime.   \n",
       "1  Mankind was born on Earth. It was never meant ...   \n",
       "2                  Welcome to a world without rules.   \n",
       "3                        Enter the world of Pandora.   \n",
       "4                            Some assembly required.   \n",
       "\n",
       "                                        genres  \\\n",
       "0           Action, Science Fiction, Adventure   \n",
       "1            Adventure, Drama, Science Fiction   \n",
       "2               Drama, Action, Crime, Thriller   \n",
       "3  Action, Adventure, Fantasy, Science Fiction   \n",
       "4           Science Fiction, Action, Adventure   \n",
       "\n",
       "                                            keywords  \n",
       "0  rescue, mission, dream, airplane, paris, franc...  \n",
       "1  rescue, future, spacecraft, race against time,...  \n",
       "2  joker, sadism, chaos, secret identity, crime f...  \n",
       "3  future, society, culture clash, space travel, ...  \n",
       "4  new york city, superhero, shield, based on com...  "
      ]
     },
     "execution_count": 40,
     "metadata": {},
     "output_type": "execute_result"
    }
   ],
   "source": [
    "data.head()"
   ]
  },
  {
   "cell_type": "code",
   "execution_count": null,
   "id": "931e2491-c3ca-4bc9-95e2-44857d2e883a",
   "metadata": {},
   "outputs": [],
   "source": []
  }
 ],
 "metadata": {
  "kernelspec": {
   "display_name": "Python 3 (ipykernel)",
   "language": "python",
   "name": "python3"
  },
  "language_info": {
   "codemirror_mode": {
    "name": "ipython",
    "version": 3
   },
   "file_extension": ".py",
   "mimetype": "text/x-python",
   "name": "python",
   "nbconvert_exporter": "python",
   "pygments_lexer": "ipython3",
   "version": "3.13.4"
  }
 },
 "nbformat": 4,
 "nbformat_minor": 5
}
